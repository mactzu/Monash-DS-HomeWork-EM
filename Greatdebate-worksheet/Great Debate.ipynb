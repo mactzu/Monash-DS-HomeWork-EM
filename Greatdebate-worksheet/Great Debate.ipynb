{
 "cells": [
  {
   "cell_type": "code",
   "execution_count": 1,
   "metadata": {},
   "outputs": [],
   "source": [
    "import numpy as np\n",
    "import pandas as pd\n",
    "import matplotlib.pyplot as plt\n",
    "import requests \n",
    "import time\n",
    "import json\n",
    "import seaborn\n",
    "from scipy.stats import ttest_ind"
   ]
  },
  {
   "cell_type": "code",
   "execution_count": null,
   "metadata": {},
   "outputs": [],
   "source": [
    "from getpass import getpass\n",
    "\n",
    "ykey_id = getpass(\"9YkA3tkdLXGT6xXXkX87_kgbwdLn51YA1VHY7yaQxINm-oe0vz8oAC1HRBeQujnGPobLKn6Fzc0tms5nsqnCR7QJfAHC6NybfBqjJ5phiB3s5wdufSC53C7m6kDGXnYx\")\n"
   ]
  },
  {
   "cell_type": "code",
   "execution_count": null,
   "metadata": {},
   "outputs": [],
   "source": [
    "census_pd = pd.read_csv(\"/Users/eamonnmccallum/Monash-DS/monu-mel-data-pt-05-2020-u-c/01-Lessons/01-Excel/01/Activities/01-Ins_GreatDebate/Resources/Census_Data.csv\")\n",
    "\n",
    "census_pd.head()\n",
    "\n",
    "print census._pd.head()"
   ]
  },
  {
   "cell_type": "code",
   "execution_count": null,
   "metadata": {},
   "outputs": [],
   "source": []
  },
  {
   "cell_type": "code",
   "execution_count": null,
   "metadata": {},
   "outputs": [],
   "source": []
  }
 ],
 "metadata": {
  "kernelspec": {
   "display_name": "Python 3",
   "language": "python",
   "name": "python3"
  },
  "language_info": {
   "codemirror_mode": {
    "name": "ipython",
    "version": 3
   },
   "file_extension": ".py",
   "mimetype": "text/x-python",
   "name": "python",
   "nbconvert_exporter": "python",
   "pygments_lexer": "ipython3",
   "version": "3.7.6"
  }
 },
 "nbformat": 4,
 "nbformat_minor": 4
}
